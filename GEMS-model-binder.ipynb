{
 "cells": [
  {
   "cell_type": "markdown",
   "metadata": {},
   "source": [
    "# GEMS Diagnostic Interactive Tool"
   ]
  },
  {
   "cell_type": "markdown",
   "metadata": {},
   "source": [
    "To begin, click on the cell below and press \"Run\" on the toolbar above"
   ]
  },
  {
   "cell_type": "code",
   "execution_count": null,
   "metadata": {},
   "outputs": [],
   "source": [
    "from IPython.core.display import display, HTML\n",
    "display(HTML(\"<style>div.output_scroll { height: 5000px; }</style>\"))\n",
    "\n",
    "import matplotlib.pyplot as plt\n",
    "import numpy as np\n",
    "import ipywidgets as widgets\n",
    "import plotly.io as pio\n",
    "pio.renderers.default = 'notebook'\n",
    "\n",
    "from model import Model, startBar\n",
    "\n",
    "startBar, lookup = startBar()\n",
    "startBar"
   ]
  },
  {
   "cell_type": "markdown",
   "metadata": {},
   "source": [
    "Select the model input data from the dropdown, click on the cell below, and click run again. New data can be loaded by making a new selection and then re-running the cell below. The model parameters that can be changed are divided into two categories. *Input data* are assumptions about the state of the world that will typically not be varied from one scenario to another. *Scenario parameters* reflect possible interventions to the system that will be varied between scenarios. The inputs that can currently be configured are:\n",
    "\n",
    "### Input data\n",
    "- *Population*: The total number of people living in each microtype, subdivided by their population group. The population group definitions can vary from one model to another.\n",
    "- *Utility parameters*: These parameters define how the modeled population groups value different trip characteristics when choosing their travel mode. These utility parameters can vary by populataion group, mode, and trip purpose, and a given parameter can be changed by selecting the appropriate combination of trip purpose and mode from the dropdown menus and then updating the parameter value in the \"Value\" field. The utility parameters are\n",
    "    - *Constant*: The alternative specific constant added to the utility of a given mode choice option. Increasing this value makes travelers more likely to choose the given mode. Units of \"utils.\"\n",
    "    - *Wait time*: The utility multiplier for wait time for a given mode. A more negative value of this parameter makes travelers more averse to traveling on transit modes with large headways and long wait times. This value does not impact auto, walk, and bike modes. Units of \"utils\"/hour.\n",
    "    - *In vehicle time*: The utility parameter for in vehicle travel time for a given mode. A more negative value here makes travelers more averse to travel time for a given mode. Units of \"utils\"/hour.\n",
    "    - *Access time*: The utility parameter associated with walk access/egress time for a given model. A more negative value here makes travelers less willing to take a mode with low service area and therefore long access distances and times. Only relevant to bus and rail modes. Units of \"utils\"/hour.\n",
    "- *MFD parameters*: These parameters define the shape of each subnetwork's quadratic macroscopic fundamental diagram (MFD), which influences the demand/congestion relationship in each microtype. The parameters are:\n",
    "    - *Max speed*: The peak speed of a road network achieved when demand is very low. Increasing this value reduces travel times and increases the maximum capacity of the network.\n",
    "    - *Jam density*: The maximum ratio of vehicles per unit distance that can fit on a network before it becomes gridlocked. Increasing this value increases the vehicle demand that a network can serve before becoming congested.\n",
    "\n",
    "### Scenario parameters\n",
    "- *Bus lane dedication*: The portion of the bus route that takes place on dedicated bus lanes. Unitless.\n",
    "- *Bus headway (s)*: The time between successive buses with a given microtype. Unit: seconds.\n",
    "- *Bus service area*: The portion of the road network that contains a bus route. Increasing this value increases the total service distance (and therefore operating costs) of the bus system and decreases walk access times (by reducing the distance between bus routes). If there a non zero percentage of bus routes are operating on dedicated lanes, increasing bus service area also increases the total lane dedication cost as well. Unitless.\n",
    "\n",
    "Note: The model can run slowly when the road network is very congested, especially for the full-geotype scenarios. If the model has not output anything after 2-3 minutes, it has likely gotten stuck in a situation for which no supply/demand equilibrium exists. While this will eventually produce outputs, they are li either press the stop button (\"interrupt the kernel\") above or reload the page "
   ]
  },
  {
   "cell_type": "code",
   "execution_count": null,
   "metadata": {},
   "outputs": [],
   "source": [
    "model = Model(lookup[startBar.value], nSubBins=4)\n",
    "model.interact.init()\n",
    "display(model.interact.grid)\n"
   ]
  },
  {
   "cell_type": "code",
   "execution_count": null,
   "metadata": {},
   "outputs": [],
   "source": [
    "model.interact.fig"
   ]
  }
 ],
 "metadata": {
  "kernelspec": {
   "display_name": "Python 3",
   "language": "python",
   "name": "python3"
  },
  "language_info": {
   "codemirror_mode": {
    "name": "ipython",
    "version": 3
   },
   "file_extension": ".py",
   "mimetype": "text/x-python",
   "name": "python",
   "nbconvert_exporter": "python",
   "pygments_lexer": "ipython3",
   "version": "3.7.7"
  }
 },
 "nbformat": 4,
 "nbformat_minor": 4
}
